{
 "cells": [
  {
   "cell_type": "code",
   "execution_count": 1,
   "id": "67c82974",
   "metadata": {},
   "outputs": [
    {
     "data": {
      "text/plain": [
       "(1, 2, 3, 4)"
      ]
     },
     "execution_count": 1,
     "metadata": {},
     "output_type": "execute_result"
    }
   ],
   "source": [
    "# 1. Write a Python program to add an item to a tuple.\n",
    "\n",
    "t = (1,2,3)\n",
    "\n",
    "item = 4\n",
    "\n",
    "t = t +(item,)\n",
    "\n",
    "t"
   ]
  },
  {
   "cell_type": "code",
   "execution_count": 2,
   "id": "915a2fe9",
   "metadata": {},
   "outputs": [
    {
     "name": "stdout",
     "output_type": "stream",
     "text": [
      "15\n"
     ]
    }
   ],
   "source": [
    "#2. Write a Python program to sum all the items in a list.\n",
    "\n",
    "items = [1, 2, 3, 4, 5]\n",
    "\n",
    "t1 = sum(items)\n",
    "\n",
    "print(t1) \n"
   ]
  },
  {
   "cell_type": "code",
   "execution_count": 3,
   "id": "766eafa4",
   "metadata": {},
   "outputs": [
    {
     "data": {
      "text/plain": [
       "[1, 2, 3, 1, 2, 3, 1, 2, 3]"
      ]
     },
     "execution_count": 3,
     "metadata": {},
     "output_type": "execute_result"
    }
   ],
   "source": [
    "#3. Write a Python program to multiply all the items in a list.\n",
    "lst = [1,2,3]\n",
    "\n",
    "x = 1\n",
    "\n",
    "for x in lst:\n",
    "    x *= lst\n",
    "x"
   ]
  },
  {
   "cell_type": "code",
   "execution_count": 4,
   "id": "7c7f58a9",
   "metadata": {},
   "outputs": [
    {
     "data": {
      "text/plain": [
       "2"
      ]
     },
     "execution_count": 4,
     "metadata": {},
     "output_type": "execute_result"
    }
   ],
   "source": [
    "#4. Write a Python program to get the smallest number from a list. \n",
    "\n",
    "lst = [5,2,41,4]\n",
    "\n",
    "s = min(lst)\n",
    "\n",
    "s"
   ]
  },
  {
   "cell_type": "code",
   "execution_count": 5,
   "id": "2a3475fe",
   "metadata": {},
   "outputs": [
    {
     "data": {
      "text/plain": [
       "41"
      ]
     },
     "execution_count": 5,
     "metadata": {},
     "output_type": "execute_result"
    }
   ],
   "source": [
    "#5. Write a Python program to get the largest number from a list.\n",
    "\n",
    "lst = [5,2,41,4]\n",
    "\n",
    "s = max(lst)\n",
    "\n",
    "s"
   ]
  },
  {
   "cell_type": "code",
   "execution_count": 6,
   "id": "bf54491e",
   "metadata": {},
   "outputs": [
    {
     "name": "stdout",
     "output_type": "stream",
     "text": [
      "5\n"
     ]
    }
   ],
   "source": [
    "#6. Write a Python program to count the number of strings from a given list of strings.\n",
    "\n",
    "\n",
    "strings = ['elon', 'steve', 'tesla', 'newton', 'messi']\n",
    "\n",
    "count = len(strings)\n",
    "\n",
    "print(count) \n"
   ]
  },
  {
   "cell_type": "code",
   "execution_count": 7,
   "id": "ee50a1e0",
   "metadata": {},
   "outputs": [
    {
     "name": "stdout",
     "output_type": "stream",
     "text": [
      "[1, 2, 3, 4]\n"
     ]
    }
   ],
   "source": [
    "#7. Write a Python program to clone or copy a list\n",
    "\n",
    "lst = [1,2,3,4]\n",
    "\n",
    "lst1 = []\n",
    "\n",
    "lst1 = lst.copy()\n",
    "\n",
    "print(lst1)"
   ]
  },
  {
   "cell_type": "code",
   "execution_count": 8,
   "id": "b33f009c",
   "metadata": {},
   "outputs": [
    {
     "name": "stdout",
     "output_type": "stream",
     "text": [
      "{1, 2, 4, 5}\n"
     ]
    }
   ],
   "source": [
    "#8. Write a Python program to remove item(s) from a given set.\n",
    "\n",
    "n = {1, 2, 3, 4, 5}\n",
    "\n",
    "\n",
    "n.remove(3)\n",
    "\n",
    "print(n) \n"
   ]
  },
  {
   "cell_type": "code",
   "execution_count": 9,
   "id": "66d2080a",
   "metadata": {},
   "outputs": [
    {
     "data": {
      "text/plain": [
       "True"
      ]
     },
     "execution_count": 9,
     "metadata": {},
     "output_type": "execute_result"
    }
   ],
   "source": [
    "#9. Write a Python program to check if a set is a subset of another set.\n",
    "\n",
    "n = {1, 2, 3, 4, 5}\n",
    "\n",
    "n2 = {1, 2, 3}\n",
    "\n",
    "n2 <= n\n",
    "\n",
    "\n"
   ]
  },
  {
   "cell_type": "code",
   "execution_count": 10,
   "id": "de2e3653",
   "metadata": {},
   "outputs": [
    {
     "name": "stdout",
     "output_type": "stream",
     "text": [
      "set()\n"
     ]
    }
   ],
   "source": [
    "#10. Write a Python program to remove all elements from a given set.\n",
    "\n",
    "n = {1,2,3,4,5}\n",
    "\n",
    "n.clear()\n",
    "\n",
    "print(n)"
   ]
  },
  {
   "cell_type": "code",
   "execution_count": 11,
   "id": "607460eb",
   "metadata": {},
   "outputs": [
    {
     "name": "stdout",
     "output_type": "stream",
     "text": [
      "Maximum value: 9\n",
      "Minimum value: 1\n"
     ]
    }
   ],
   "source": [
    "#11. Write a Python program to find the maximum and minimum values in a set.\n",
    "\n",
    "numbers = {4, 2, 9, 7, 5, 1}\n",
    "max_value = max(numbers)\n",
    "min_value = min(numbers)\n",
    "\n",
    "print(\"Maximum value:\", max_value)\n",
    "print(\"Minimum value:\", min_value)\n"
   ]
  },
  {
   "cell_type": "code",
   "execution_count": 12,
   "id": "4cc8c372",
   "metadata": {},
   "outputs": [
    {
     "name": "stdout",
     "output_type": "stream",
     "text": [
      "3\n"
     ]
    }
   ],
   "source": [
    "#12. Write a Python program to find the index of an item in a tuple.\n",
    "\n",
    "n = (1,2,3,4,5,6)\n",
    "\n",
    "x = n.index(4)\n",
    "\n",
    "print(x)"
   ]
  },
  {
   "cell_type": "code",
   "execution_count": 13,
   "id": "1fdb31a2",
   "metadata": {},
   "outputs": [
    {
     "name": "stdout",
     "output_type": "stream",
     "text": [
      "{'name': 'mostafa', 'age': 21}\n"
     ]
    }
   ],
   "source": [
    "#13. Write a Python program to convert a tuple to a dictionary.\n",
    "\n",
    "n = (\"name\", \"mostafa\"), (\"age\", 21)\n",
    "\n",
    "d = dict(n)\n",
    "\n",
    "print(d)"
   ]
  },
  {
   "cell_type": "code",
   "execution_count": 14,
   "id": "1f8fd1a5",
   "metadata": {},
   "outputs": [
    {
     "name": "stdout",
     "output_type": "stream",
     "text": [
      "['water', 1, True]\n",
      "['banana', 2, False]\n",
      "['soda', 3, True]\n"
     ]
    }
   ],
   "source": [
    "#14. Write a Python program to unzip a list of tuples into individual lists.\n",
    "\n",
    "list_of_tuples = [(\"water\", \"banana\", \"soda\"), (1, 2, 3), (True, False, True)]\n",
    "\n",
    "unzipped_list = zip(*list_of_tuples)\n",
    "\n",
    "list1, list2, list3 = map(list, unzipped_list)\n",
    "\n",
    "\n",
    "print(list1)\n",
    "print(list2)\n",
    "print(list3)\n",
    "\n"
   ]
  },
  {
   "cell_type": "code",
   "execution_count": 15,
   "id": "a497166e",
   "metadata": {},
   "outputs": [
    {
     "data": {
      "text/plain": [
       "(3, 2, 1)"
      ]
     },
     "execution_count": 15,
     "metadata": {},
     "output_type": "execute_result"
    }
   ],
   "source": [
    "#15. Write a Python program to reverse a tuple.\n",
    "\n",
    "n = (1,2,3)\n",
    "\n",
    "r = n[::-1]\n",
    "\n",
    "r\n"
   ]
  },
  {
   "cell_type": "code",
   "execution_count": 16,
   "id": "c718b411",
   "metadata": {},
   "outputs": [
    {
     "data": {
      "text/plain": [
       "{'a': 1, 'b': 2}"
      ]
     },
     "execution_count": 16,
     "metadata": {},
     "output_type": "execute_result"
    }
   ],
   "source": [
    "#16. Write a Python program to convert a list of tuples into a dictionary.\n",
    "\n",
    "t = ('a',1),('b',2)\n",
    "\n",
    "d = dict(t)\n",
    "\n",
    "d"
   ]
  },
  {
   "cell_type": "code",
   "execution_count": 17,
   "id": "d6b9178d",
   "metadata": {},
   "outputs": [
    {
     "name": "stdout",
     "output_type": "stream",
     "text": [
      "[(10, 20, 100), (40, 50, 100), (70, 80, 100)]\n"
     ]
    }
   ],
   "source": [
    "#17. Write a Python program to replace the last value of tuples in a list.\n",
    "l = [(10, 20, 40), (40, 50, 60), (70, 80, 90)]\n",
    "\n",
    "print([n[:-1] + (100,) for n in l]) \n"
   ]
  },
  {
   "cell_type": "code",
   "execution_count": null,
   "id": "eb406a5f",
   "metadata": {},
   "outputs": [],
   "source": [
    "#18. Write a Python program to sort a tuple by its float element.\n",
    "\n"
   ]
  }
 ],
 "metadata": {
  "kernelspec": {
   "display_name": "Python 3 (ipykernel)",
   "language": "python",
   "name": "python3"
  },
  "language_info": {
   "codemirror_mode": {
    "name": "ipython",
    "version": 3
   },
   "file_extension": ".py",
   "mimetype": "text/x-python",
   "name": "python",
   "nbconvert_exporter": "python",
   "pygments_lexer": "ipython3",
   "version": "3.11.4"
  }
 },
 "nbformat": 4,
 "nbformat_minor": 5
}
