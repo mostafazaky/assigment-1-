{
 "cells": [
  {
   "cell_type": "code",
   "execution_count": 2,
   "id": "32a9432e",
   "metadata": {},
   "outputs": [
    {
     "data": {
      "text/plain": [
       "(1, 2, 3, 4)"
      ]
     },
     "execution_count": 2,
     "metadata": {},
     "output_type": "execute_result"
    }
   ],
   "source": [
    "# 1. Write a Python program to add an item to a tuple.\n",
    "\n",
    "t = (1,2,3)\n",
    "\n",
    "item = 4\n",
    "\n",
    "t = t +(item,)\n",
    "\n",
    "t"
   ]
  },
  {
   "cell_type": "code",
   "execution_count": 15,
   "id": "62c84ad5",
   "metadata": {},
   "outputs": [
    {
     "name": "stdout",
     "output_type": "stream",
     "text": [
      "15\n"
     ]
    }
   ],
   "source": [
    "#2. Write a Python program to sum all the items in a list.\n",
    "\n",
    "items = [1, 2, 3, 4, 5]\n",
    "\n",
    "t1 = sum(items)\n",
    "\n",
    "print(t1) \n"
   ]
  },
  {
   "cell_type": "code",
   "execution_count": 16,
   "id": "984aebfa",
   "metadata": {},
   "outputs": [
    {
     "name": "stdout",
     "output_type": "stream",
     "text": [
      "[1, 2, 3, 4, 5, 1, 2, 3, 4, 5]\n"
     ]
    }
   ],
   "source": [
    "items = [1, 2, 3, 4, 5]\n",
    "\n",
    "t2 = items * 2\n",
    "\n",
    "print(t2) \n"
   ]
  },
  {
   "cell_type": "code",
   "execution_count": 17,
   "id": "873998a3",
   "metadata": {},
   "outputs": [
    {
     "name": "stdout",
     "output_type": "stream",
     "text": [
      "5\n"
     ]
    }
   ],
   "source": [
    "#6. Write a Python program to count the number of strings from a given list of strings.\n",
    "\n",
    "\n",
    "strings = ['elon', 'steve', 'tesla', 'newton', 'messi']\n",
    "\n",
    "count = len(strings)\n",
    "\n",
    "print(count) \n"
   ]
  },
  {
   "cell_type": "code",
   "execution_count": 4,
   "id": "22c0f681",
   "metadata": {},
   "outputs": [
    {
     "name": "stdout",
     "output_type": "stream",
     "text": [
      "[1, 2, 3, 4]\n"
     ]
    }
   ],
   "source": [
    "#7. Write a Python program to clone or copy a list\n",
    "\n",
    "lst = [1,2,3,4]\n",
    "\n",
    "lst1 = []\n",
    "\n",
    "lst1 = lst.copy()\n",
    "\n",
    "print(lst1)"
   ]
  },
  {
   "cell_type": "code",
   "execution_count": null,
   "id": "0e4fb329",
   "metadata": {},
   "outputs": [],
   "source": []
  }
 ],
 "metadata": {
  "kernelspec": {
   "display_name": "Python 3 (ipykernel)",
   "language": "python",
   "name": "python3"
  },
  "language_info": {
   "codemirror_mode": {
    "name": "ipython",
    "version": 3
   },
   "file_extension": ".py",
   "mimetype": "text/x-python",
   "name": "python",
   "nbconvert_exporter": "python",
   "pygments_lexer": "ipython3",
   "version": "3.11.4"
  }
 },
 "nbformat": 4,
 "nbformat_minor": 5
}
